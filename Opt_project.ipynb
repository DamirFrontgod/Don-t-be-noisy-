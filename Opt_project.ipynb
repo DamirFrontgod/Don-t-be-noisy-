{
 "cells": [
  {
   "cell_type": "markdown",
   "metadata": {},
   "source": [
    "# Не шуми!"
   ]
  },
  {
   "cell_type": "code",
   "execution_count": 1,
   "metadata": {},
   "outputs": [],
   "source": [
    "import numpy as np\n",
    "import matplotlib.pyplot as plt\n",
    "import math\n",
    "import random\n",
    "import scipy.io\n",
    "from scipy.optimize import minimize\n",
    "from scipy.optimize import check_grad\n",
    "import pandas as pd"
   ]
  },
  {
   "cell_type": "markdown",
   "metadata": {},
   "source": [
    "### Функция, удаляющая шумы  \n",
    "#### Принимает:\n",
    "xcor - массив точек  \n",
    "eps - эпсилон, задающий шум\n",
    "#### Возвращает:\n",
    "Новый массив без шумов\n",
    "#### Примечание:\n",
    "работает в предположении о том, что xcor - list"
   ]
  },
  {
   "cell_type": "code",
   "execution_count": 2,
   "metadata": {},
   "outputs": [],
   "source": [
    "def delnoize(xcor, eps):\n",
    "    bcount = math.ceil(0.008*len(xcor))\n",
    "    i = 1\n",
    "    lst = []\n",
    "    while i < len(xcor):\n",
    "        \n",
    "        norm = xcor[i-1]\n",
    "        noize = False\n",
    "        \n",
    "        if abs(xcor[i] - norm) > eps:\n",
    "            j = 0\n",
    "            noize = False\n",
    "            while j < bcount:\n",
    "                if abs(xcor[i+j] - norm) < eps:\n",
    "                    noize = True\n",
    "                    break\n",
    "                j = j + 1\n",
    "                \n",
    "        if noize:\n",
    "            lst.append([i, i+j-1])\n",
    "            i = i + j\n",
    "        else:\n",
    "            i = i + 1\n",
    "            \n",
    "    i = len(lst) - 1\n",
    "\n",
    "    while i >= 0:\n",
    "        a = lst[i][0]\n",
    "        b = lst[i][1]\n",
    "        for k in range(0, b-a+1):\n",
    "            xcor.pop(a)\n",
    "        i = i - 1\n",
    "        \n",
    "    return xcor"
   ]
  },
  {
   "cell_type": "markdown",
   "metadata": {},
   "source": [
    "### Функция, обнаруживающая разрывы  \n",
    "#### Принимает:\n",
    "Параметры аналогичны предыдущей функции  \n",
    "#### Возвращает:\n",
    "Возвращает список разрывов\n",
    "#### Примечание:\n",
    "Работает в предположении об отсутсвии шумов"
   ]
  },
  {
   "cell_type": "code",
   "execution_count": 3,
   "metadata": {},
   "outputs": [],
   "source": [
    "def foundgap(xcor, eps): \n",
    "    i = 1\n",
    "    lst = []\n",
    "    while i < len(xcor):\n",
    "        norm = xcor[i-1]\n",
    "        if abs(xcor[i] - norm) > eps:\n",
    "            lst.append(i-1)\n",
    "        i = i + 1\n",
    "    return lst  "
   ]
  },
  {
   "cell_type": "markdown",
   "metadata": {},
   "source": [
    "### Генератор сигналов для проверки масштабируемости  \n",
    "#### Принимает:\n",
    "eps - максимальная разница между соседними точками вне шумов (10 * eps - размер шумов)  \n",
    "N - количество точек  \n",
    "section_list - отрезки, на которых определены функции  \n",
    "f_list - собственно сами функции   \n",
    "#### Возвращает:\n",
    "Возвращает сигнал - массив точек"
   ]
  },
  {
   "cell_type": "code",
   "execution_count": 201,
   "metadata": {},
   "outputs": [],
   "source": [
    "def advanced_generator(N, section_list, f_list,  eps):\n",
    "    points = []\n",
    "    \n",
    "    for i in range(len(section_list)):\n",
    "        section_start = int(section_list[i][0]) \n",
    "        section_end = int(section_list[i][1])\n",
    "        for j in range(section_start, section_end):\n",
    "            points.append(f_list[i](j) + random.uniform(0, eps))\n",
    "    \n",
    "    noises_indexes = sorted([random.randrange(0, N) for i in range(0, 6)])\n",
    "    for i in noises_indexes:\n",
    "        noises_num = random.randrange(5, 30)\n",
    "        direction = random.randrange(-1, 2)\n",
    "        step_size = random.uniform(4 * eps, 10 * eps)\n",
    "        for j in range(0, noises_num):\n",
    "            points[i + j] += direction * step_size\n",
    "    return points"
   ]
  },
  {
   "cell_type": "markdown",
   "metadata": {},
   "source": [
    "### Пример использования приведенных выше функций"
   ]
  },
  {
   "cell_type": "code",
   "execution_count": 247,
   "metadata": {
    "scrolled": false
   },
   "outputs": [
    {
     "data": {
      "image/png": "[encoded data removed]",
      "text/plain": [
       "<matplotlib.figure.Figure at 0x26b84f80630>"
      ]
     },
     "metadata": {},
     "output_type": "display_data"
    },
    {
     "data": {
      "image/png": "[encoded data removed]",
      "text/plain": [
       "<matplotlib.figure.Figure at 0x26b88fc8ac8>"
      ]
     },
     "metadata": {},
     "output_type": "display_data"
    },
    {
     "name": "stdout",
     "output_type": "stream",
     "text": [
      "Координаты разрывов после удаления шумов: [965, 2965, 3936]\n"
     ]
    }
   ],
   "source": [
    "N = 5000\n",
    "section_list_gen = [[0, 1000], \n",
    "                [1000, 3000], \n",
    "                [3000, 4000], \n",
    "                [4000, 5000]]\n",
    "f_list = [lambda x: 0.05*x**0.5,\n",
    "          lambda x: np.sin(0.003 * x), \n",
    "          lambda x: 1,\n",
    "          lambda x: 10000/x]\n",
    "eps_fluct = 0.06\n",
    "eps = 0.2\n",
    "\n",
    "y_gen = advanced_generator(N, section_list_gen, f_list, eps_fluct)\n",
    "plt.plot(y_gen)\n",
    "plt.title(\"Результат работы генератора\")\n",
    "plt.show()\n",
    "y_gen = delnoize(y_gen, eps)\n",
    "lst = foundgap(y_gen, eps)\n",
    "plt.plot(y_gen)\n",
    "plt.title(\"Удаление шумов\")\n",
    "plt.show()\n",
    "print(\"Координаты разрывов после удаления шумов: \", lst, sep = \"\")"
   ]
  },
  {
   "cell_type": "markdown",
   "metadata": {},
   "source": [
    "### Перед тем как пользоваться методами"
   ]
  },
  {
   "cell_type": "markdown",
   "metadata": {},
   "source": [
    "#### Выгружаем данные"
   ]
  },
  {
   "cell_type": "code",
   "execution_count": 205,
   "metadata": {},
   "outputs": [
    {
     "data": {
      "image/png": "[encoded data removed]",
      "text/plain": [
       "<matplotlib.figure.Figure at 0x26b8485ac18>"
      ]
     },
     "metadata": {},
     "output_type": "display_data"
    }
   ],
   "source": [
    "data = scipy.io.loadmat('denoising_data.mat')\n",
    "y_raw = data['xcor']\n",
    "x_raw = np.arange(1, y_raw.shape[0] + 1)\n",
    "plt.plot(x_raw, y_raw)\n",
    "plt.show()"
   ]
  },
  {
   "cell_type": "markdown",
   "metadata": {},
   "source": [
    "#### Очищаем от шумов и ищем отрезки непрерывности"
   ]
  },
  {
   "cell_type": "code",
   "execution_count": 248,
   "metadata": {
    "scrolled": true
   },
   "outputs": [
    {
     "data": {
      "image/png": "[encoded data removed]",
      "text/plain": [
       "<matplotlib.figure.Figure at 0x26b84f91a90>"
      ]
     },
     "metadata": {},
     "output_type": "display_data"
    },
    {
     "name": "stdout",
     "output_type": "stream",
     "text": [
      "Участки непрерывности [[0, 988], [988, 4910]]\n"
     ]
    }
   ],
   "source": [
    "eps = 0.2\n",
    "def cleanAndSectionSearch(eps, y_raw):\n",
    "    \n",
    "    y_raw_list = [y_raw[i][0] for i in range(y_raw.shape[0])]\n",
    "    y_clean_list = delnoize(y_raw_list, eps)\n",
    "\n",
    "    y = np.asarray([[item] for item in y_clean_list])\n",
    "    N = y.shape[0] + 1\n",
    "    x = np.arange(1, N)\n",
    "\n",
    "    gaps = [0]\n",
    "    gaps.extend(foundgap(y_clean_list, eps))\n",
    "    gaps.append(N)\n",
    "    section_list = [[gaps[i], gaps[i+1]] for i in range(len(gaps)-1)]\n",
    "    return y, x, section_list\n",
    "\n",
    "y, x, section_list = cleanAndSectionSearch(eps, y_raw)\n",
    "plt.plot(x, y)\n",
    "plt.show()\n",
    "print(\"Участки непрерывности\", section_list)"
   ]
  },
  {
   "cell_type": "markdown",
   "metadata": {},
   "source": [
    "## Явное решение:"
   ]
  },
  {
   "cell_type": "markdown",
   "metadata": {},
   "source": [
    "#### Создаем матрицу признаков "
   ]
  },
  {
   "cell_type": "code",
   "execution_count": 249,
   "metadata": {},
   "outputs": [
    {
     "data": {
      "text/html": [
       "<div>\n",
       "<style scoped>\n",
       "    .dataframe tbody tr th:only-of-type {\n",
       "        vertical-align: middle;\n",
       "    }\n",
       "\n",
       "    .dataframe tbody tr th {\n",
       "        vertical-align: top;\n",
       "    }\n",
       "\n",
       "    .dataframe thead th {\n",
       "        text-align: right;\n",
       "    }\n",
       "</style>\n",
       "<table border=\"1\" class=\"dataframe\">\n",
       "  <thead>\n",
       "    <tr style=\"text-align: right;\">\n",
       "      <th></th>\n",
       "      <th>x</th>\n",
       "      <th>const</th>\n",
       "      <th>x^2</th>\n",
       "      <th>x^3</th>\n",
       "      <th>x^4</th>\n",
       "      <th>x^5</th>\n",
       "      <th>x^6</th>\n",
       "      <th>x^7</th>\n",
       "      <th>x^8</th>\n",
       "      <th>x^9</th>\n",
       "    </tr>\n",
       "  </thead>\n",
       "  <tbody>\n",
       "    <tr>\n",
       "      <th>0</th>\n",
       "      <td>0.0002</td>\n",
       "      <td>1</td>\n",
       "      <td>4.000000e-08</td>\n",
       "      <td>8.000000e-12</td>\n",
       "      <td>1.600000e-15</td>\n",
       "      <td>3.200000e-19</td>\n",
       "      <td>6.400000e-23</td>\n",
       "      <td>1.280000e-26</td>\n",
       "      <td>2.560000e-30</td>\n",
       "      <td>5.120000e-34</td>\n",
       "    </tr>\n",
       "    <tr>\n",
       "      <th>1</th>\n",
       "      <td>0.0004</td>\n",
       "      <td>1</td>\n",
       "      <td>1.600000e-07</td>\n",
       "      <td>6.400000e-11</td>\n",
       "      <td>2.560000e-14</td>\n",
       "      <td>1.024000e-17</td>\n",
       "      <td>4.096000e-21</td>\n",
       "      <td>1.638400e-24</td>\n",
       "      <td>6.553600e-28</td>\n",
       "      <td>2.621440e-31</td>\n",
       "    </tr>\n",
       "    <tr>\n",
       "      <th>2</th>\n",
       "      <td>0.0006</td>\n",
       "      <td>1</td>\n",
       "      <td>3.600000e-07</td>\n",
       "      <td>2.160000e-10</td>\n",
       "      <td>1.296000e-13</td>\n",
       "      <td>7.776000e-17</td>\n",
       "      <td>4.665600e-20</td>\n",
       "      <td>2.799360e-23</td>\n",
       "      <td>1.679616e-26</td>\n",
       "      <td>1.007770e-29</td>\n",
       "    </tr>\n",
       "    <tr>\n",
       "      <th>3</th>\n",
       "      <td>0.0008</td>\n",
       "      <td>1</td>\n",
       "      <td>6.400000e-07</td>\n",
       "      <td>5.120000e-10</td>\n",
       "      <td>4.096000e-13</td>\n",
       "      <td>3.276800e-16</td>\n",
       "      <td>2.621440e-19</td>\n",
       "      <td>2.097152e-22</td>\n",
       "      <td>1.677722e-25</td>\n",
       "      <td>1.342177e-28</td>\n",
       "    </tr>\n",
       "    <tr>\n",
       "      <th>4</th>\n",
       "      <td>0.0010</td>\n",
       "      <td>1</td>\n",
       "      <td>1.000000e-06</td>\n",
       "      <td>1.000000e-09</td>\n",
       "      <td>1.000000e-12</td>\n",
       "      <td>1.000000e-15</td>\n",
       "      <td>1.000000e-18</td>\n",
       "      <td>1.000000e-21</td>\n",
       "      <td>1.000000e-24</td>\n",
       "      <td>1.000000e-27</td>\n",
       "    </tr>\n",
       "  </tbody>\n",
       "</table>\n",
       "</div>"
      ],
      "text/plain": [
       "        x  const           x^2           x^3           x^4           x^5  \\\n",
       "0  0.0002      1  4.000000e-08  8.000000e-12  1.600000e-15  3.200000e-19   \n",
       "1  0.0004      1  1.600000e-07  6.400000e-11  2.560000e-14  1.024000e-17   \n",
       "2  0.0006      1  3.600000e-07  2.160000e-10  1.296000e-13  7.776000e-17   \n",
       "3  0.0008      1  6.400000e-07  5.120000e-10  4.096000e-13  3.276800e-16   \n",
       "4  0.0010      1  1.000000e-06  1.000000e-09  1.000000e-12  1.000000e-15   \n",
       "\n",
       "            x^6           x^7           x^8           x^9  \n",
       "0  6.400000e-23  1.280000e-26  2.560000e-30  5.120000e-34  \n",
       "1  4.096000e-21  1.638400e-24  6.553600e-28  2.621440e-31  \n",
       "2  4.665600e-20  2.799360e-23  1.679616e-26  1.007770e-29  \n",
       "3  2.621440e-19  2.097152e-22  1.677722e-25  1.342177e-28  \n",
       "4  1.000000e-18  1.000000e-21  1.000000e-24  1.000000e-27  "
      ]
     },
     "execution_count": 249,
     "metadata": {},
     "output_type": "execute_result"
    }
   ],
   "source": [
    "df = pd.DataFrame()\n",
    "df['x'] = x / 5000\n",
    "features = {'const':lambda x: 1, 'x': lambda x: x, 'x^2': lambda x: x**2, 'x^3': lambda x: x**3, 'x^4': lambda x: x**4, \n",
    "            'x^5': lambda x: x**5, 'x^6': lambda x: x**6, 'x^7': lambda x: x**7, 'x^8': lambda x: x**8, 'x^9': lambda x: x**9}\n",
    "for item in features.items():\n",
    "    df[item[0]] = df['x'].apply(item[1])\n",
    "df.head()"
   ]
  },
  {
   "cell_type": "markdown",
   "metadata": {},
   "source": [
    "#### На каждом участке приравниваем градиент среднеквадратичной ошибки к нулю и находим явное решение"
   ]
  },
  {
   "cell_type": "code",
   "execution_count": 250,
   "metadata": {
    "scrolled": true
   },
   "outputs": [
    {
     "data": {
      "image/png": "[encoded data removed]",
      "text/plain": [
       "<matplotlib.figure.Figure at 0x26b8902c9e8>"
      ]
     },
     "metadata": {},
     "output_type": "display_data"
    }
   ],
   "source": [
    "F = df.values\n",
    "F_gen = df_gen.values\n",
    "\n",
    "def explicitSolver(y, section_list, F):\n",
    "    final = []\n",
    "    for i in range(len(section_list)):\n",
    "        y_curr = y[section_list[i][0]: section_list[i][1]]\n",
    "        F_curr = F[section_list[i][0]: section_list[i][1]]\n",
    "        FtF_inv = np.linalg.inv(F_curr.T.dot(F_curr))\n",
    "        w = FtF_inv.dot(F_curr.T).dot(y_curr)\n",
    "        y_pred = F_curr[:,:].dot(w)\n",
    "        final.append(y_pred)\n",
    "    final = np.concatenate(final)\n",
    "    return final\n",
    "\n",
    "result = explicitSolver(y, section_list, F)\n",
    "plt.plot(y, 'b')\n",
    "plt.plot(result, 'y')\n",
    "plt.show()"
   ]
  },
  {
   "cell_type": "markdown",
   "metadata": {},
   "source": [
    "## Метод градиентного спуска:"
   ]
  },
  {
   "cell_type": "markdown",
   "metadata": {},
   "source": [
    "### Введем функцию ошибки и ее градиент"
   ]
  },
  {
   "cell_type": "code",
   "execution_count": 251,
   "metadata": {},
   "outputs": [],
   "source": [
    "def Q(y, F, w):\n",
    "    Y = y.reshape(-1,)\n",
    "    return np.sum((np.dot(F, w) - Y)**2)\n",
    "\n",
    "def gradQ(y, F, w):\n",
    "    Y = y.reshape(-1,)\n",
    "    return np.dot(F.T, np.dot(F, w) - Y) / Y.shape[0]"
   ]
  },
  {
   "cell_type": "markdown",
   "metadata": {},
   "source": [
    "### Сам метод"
   ]
  },
  {
   "cell_type": "code",
   "execution_count": 252,
   "metadata": {},
   "outputs": [],
   "source": [
    "def GC(F, y, eta, eps, max_iter):\n",
    "    loss = []\n",
    "    w = np.zeros(len(features))\n",
    "    for i in range(max_iter):\n",
    "        grad = gradQ(y, F, w)\n",
    "        if (np.linalg.norm(grad) < eps):\n",
    "            break\n",
    "        w -= eta * gradQ(y, F, w)\n",
    "        loss.append(Q(y, F, w))\n",
    "    return loss, w"
   ]
  },
  {
   "cell_type": "markdown",
   "metadata": {},
   "source": [
    "#### Тестируем"
   ]
  },
  {
   "cell_type": "code",
   "execution_count": 42,
   "metadata": {},
   "outputs": [
    {
     "data": {
      "image/png": "[encoded data removed]",
      "text/plain": [
       "<matplotlib.figure.Figure at 0x26b814e00f0>"
      ]
     },
     "metadata": {},
     "output_type": "display_data"
    },
    {
     "data": {
      "image/png": "[encoded data removed]",
      "text/plain": [
       "<matplotlib.figure.Figure at 0x26b84db8b38>"
      ]
     },
     "metadata": {},
     "output_type": "display_data"
    }
   ],
   "source": [
    "final = []\n",
    "final_loss = []\n",
    "eta = 0.95\n",
    "eps = 1e-5\n",
    "max_iter = 100000\n",
    "\n",
    "for i in range(len(section_list)):\n",
    "    y_curr = y[section_list[i][0]: section_list[i][1]]\n",
    "    F_curr = F[section_list[i][0]: section_list[i][1]]\n",
    "    loss, w = GC(F_curr, y_curr, eta, eps, max_iter)\n",
    "    y_pred = F_curr[:,:].dot(w)\n",
    "    final.append(y_pred)\n",
    "    final_loss.append(loss)\n",
    "\n",
    "final = np.concatenate(final)\n",
    "final_loss = np.concatenate(final_loss)\n",
    "\n",
    "plt.plot(x, y, 'b')\n",
    "plt.plot(x, final, 'y')\n",
    "plt.show()\n",
    "\n",
    "plt.plot(final_loss, 'b')\n",
    "plt.title(\"Функция ошибки совмешенная для всех участков\")\n",
    "plt.show()"
   ]
  },
  {
   "cell_type": "markdown",
   "metadata": {},
   "source": [
    "## Апроксимация при помощи minimize:"
   ]
  },
  {
   "cell_type": "code",
   "execution_count": 40,
   "metadata": {},
   "outputs": [
    {
     "name": "stdout",
     "output_type": "stream",
     "text": [
      "Optimization terminated successfully.\n",
      "         Current function value: 0.552084\n",
      "         Iterations: 22\n",
      "         Function evaluations: 44\n",
      "err:  [0.0695411]\n",
      "degree of polinom:  0\n",
      "Optimization terminated successfully.\n",
      "         Current function value: 670.212274\n",
      "         Iterations: 15\n",
      "         Function evaluations: 30\n",
      "err:  [0.90188325]\n",
      "Optimization terminated successfully.\n",
      "         Current function value: 587.828574\n",
      "         Iterations: 48\n",
      "         Function evaluations: 90\n",
      "err:  [0.78315238]\n",
      "Optimization terminated successfully.\n",
      "         Current function value: 449.118196\n",
      "         Iterations: 113\n",
      "         Function evaluations: 208\n",
      "err:  [0.64214488]\n",
      "Optimization terminated successfully.\n",
      "         Current function value: 142.622208\n",
      "         Iterations: 241\n",
      "         Function evaluations: 417\n",
      "err:  [0.70670884]\n",
      "Optimization terminated successfully.\n",
      "         Current function value: 176.942108\n",
      "         Iterations: 201\n",
      "         Function evaluations: 361\n",
      "err:  [0.66317658]\n",
      "Optimization terminated successfully.\n",
      "         Current function value: 73.871231\n",
      "         Iterations: 323\n",
      "         Function evaluations: 563\n",
      "err:  [0.59138034]\n",
      "Optimization terminated successfully.\n",
      "         Current function value: 30.212486\n",
      "         Iterations: 588\n",
      "         Function evaluations: 975\n",
      "err:  [0.29453428]\n",
      "degree of polinom:  6\n"
     ]
    },
    {
     "data": {
      "image/png": "[encoded data removed]",
      "text/plain": [
       "<matplotlib.figure.Figure at 0x2a2d42a7ef0>"
      ]
     },
     "metadata": {},
     "output_type": "display_data"
    }
   ],
   "source": [
    "eps = 0.5\n",
    "def mkPol(coff, x):\n",
    "    pol = 0\n",
    "    for dgr in range(0,len(coff)):\n",
    "        pol += coff[dgr]*(x**dgr)\n",
    "    return pol\n",
    "def funcToMin(coff, tup):\n",
    "    res = 0\n",
    "    for i in range(tup[1],tup[2]):\n",
    "        pol = mkPol(coff, i)\n",
    "        res += (tup[0][i]-pol)**2\n",
    "    return res\n",
    "def polyGain(y, lst, eps):\n",
    "    xcor = []\n",
    "    for i in range(0, len(y)): xcor.append(y[i])\n",
    "    arr = []\n",
    "    for k in range(0, len(lst)):\n",
    "        left = lst[k][0] + 1\n",
    "        right = lst[k][1] - 1\n",
    "        err = 2*eps\n",
    "        j = 1\n",
    "        while err > eps:\n",
    "            x0 = [0]*(j)\n",
    "            res = minimize(funcToMin, x0, args = [xcor, left, right], method='Nelder-Mead', options={'xtol': 1e-2, 'disp': True})\n",
    "            narr = []\n",
    "            err = 0\n",
    "            for i in range(left, right):\n",
    "                nval = mkPol(res.x, i)\n",
    "                if abs(nval-xcor[i]) > err: err = abs(nval-xcor[i])\n",
    "                narr.append(nval)\n",
    "            j += 1\n",
    "            print(\"err: \", err)\n",
    "        print(\"degree of polinom: \", len(res.x) - 1)\n",
    "        arr += narr\n",
    "    return arr\n",
    "final = polyGain(y, section_list, eps)\n",
    "plt.plot(y)\n",
    "plt.plot(final)\n",
    "plt.show()"
   ]
  }
 ],
 "metadata": {
  "kernelspec": {
   "display_name": "Python 3",
   "language": "python",
   "name": "python3"
  },
  "language_info": {
   "codemirror_mode": {
    "name": "ipython",
    "version": 3
   },
   "file_extension": ".py",
   "mimetype": "text/x-python",
   "name": "python",
   "nbconvert_exporter": "python",
   "pygments_lexer": "ipython3",
   "version": "3.6.4"
  }
 },
 "nbformat": 4,
 "nbformat_minor": 2
}
